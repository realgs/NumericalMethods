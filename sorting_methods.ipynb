{
 "cells": [
  {
   "cell_type": "code",
   "execution_count": 1,
   "metadata": {},
   "outputs": [],
   "source": [
    "import random"
   ]
  },
  {
   "cell_type": "code",
   "execution_count": 3,
   "metadata": {},
   "outputs": [
    {
     "name": "stdout",
     "output_type": "stream",
     "text": [
      "[29, 8, 14, 93, 79, 2, 82, 76, 86, 72, 91, 20, 37, 31, 76, 56, 2, 37]\n",
      "[2, 2, 8, 14, 20, 29, 31, 37, 37, 56, 72, 76, 76, 79, 82, 86, 91, 93]\n"
     ]
    }
   ],
   "source": [
    "A = [random.randint(1,100) for i in range(random.randint(10,20))]\n",
    "print(A)\n",
    "A.sort()\n",
    "print(A)"
   ]
  },
  {
   "cell_type": "code",
   "execution_count": 5,
   "metadata": {},
   "outputs": [
    {
     "name": "stdout",
     "output_type": "stream",
     "text": [
      "[2, 20, 56, 34, 35, 46, 81, 85, 94, 80, 38, 4, 40, 88, 37, 7, 74, 10]\n",
      "[2, 4, 7, 10, 20, 34, 35, 37, 38, 40, 46, 56, 74, 80, 81, 85, 88, 94]\n"
     ]
    }
   ],
   "source": [
    "B = [random.randint(1,100) for i in range(random.randint(10,20))]\n",
    "print(B)\n",
    "print (sorted(B))"
   ]
  },
  {
   "cell_type": "code",
   "execution_count": null,
   "metadata": {},
   "outputs": [],
   "source": []
  }
 ],
 "metadata": {
  "kernelspec": {
   "display_name": "Python 3",
   "language": "python",
   "name": "python3"
  },
  "language_info": {
   "codemirror_mode": {
    "name": "ipython",
    "version": 3
   },
   "file_extension": ".py",
   "mimetype": "text/x-python",
   "name": "python",
   "nbconvert_exporter": "python",
   "pygments_lexer": "ipython3",
   "version": "3.7.3"
  }
 },
 "nbformat": 4,
 "nbformat_minor": 2
}
